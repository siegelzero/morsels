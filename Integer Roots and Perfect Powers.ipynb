{
 "cells": [
  {
   "cell_type": "markdown",
   "metadata": {},
   "source": [
    "## Integer Roots and Perfect Powers\n",
    "\n",
    "In this notebook, we cover some methods to extract integer roots - both square roots and more general $k$th roots for $k > 2$. We also describe methods to detect perfect squares and $k$th powers."
   ]
  },
  {
   "cell_type": "markdown",
   "metadata": {},
   "source": [
    "### Integer Square Roots"
   ]
  },
  {
   "cell_type": "markdown",
   "metadata": {},
   "source": [
    "First we will go over the **integer square root** of a number $n \\geq 0$. This is the unique integer $m$ with $m^2 \\leq n < (m + 1)^2$. In calculus, we learn how to use Newton's method to find polynomial roots. We can use use this idea to compute $m = \\left\\lfloor \\sqrt{n} \\right\\rfloor$.\n",
    "\n",
    "With appropriate starting conditions, the Newtonian iteration\n",
    "$$\n",
    "    x_{i + 1} = x_i - \\frac{f(x_i)}{f'(x_i)}\n",
    "$$\n",
    "will converge to a root of $f$. Using the polynomial $f(x) = x^2 - n$ yields\n",
    "$$\n",
    "x_{i + 1} = x_i - \\frac{x_i^2 - n}{2 x_i} = \\frac{1}{2} \\left( x_i + \\frac{n}{x_i} \\right)\n",
    "$$\n",
    "which we may adapt as\n",
    "$$\n",
    "x_{i + 1} = \\left\\lfloor \\frac{x_i + \\left\\lfloor \\frac{n}{x_i} \\right\\rfloor}{2} \\right\\rfloor.\n",
    "$$\n",
    "The sequence of values $x_i$ will decrease monotonically until we obtain $x_k = \\left\\lfloor \\sqrt{n} \\right\\rfloor$ for some $k$, as long as $x_0 \\geq \\left\\lfloor \\sqrt{n} \\right\\rfloor$. For efficiency, it is desirable to choose our initial approximation to be as close to $\\sqrt{n}$ as possible. One common choice is $2^{\\left\\lceil \\log_{2}(n) / 2 \\right\\rceil}$. This leads to the following algorithm:"
   ]
  },
  {
   "cell_type": "code",
   "execution_count": 30,
   "metadata": {},
   "outputs": [],
   "source": [
    "def newton(n: int) -> int:\n",
    "    x = 2**((n.bit_length() + 1)// 2)\n",
    "    \n",
    "    while True:\n",
    "        y = (x + n//x) // 2\n",
    "        if y < x:\n",
    "            x = y\n",
    "        else:\n",
    "            break\n",
    "    \n",
    "    return x\n",
    "\n",
    "for n in range(1, 10000):\n",
    "    m = newton(n)\n",
    "    assert m**2 <= n < (m + 1)**2"
   ]
  },
  {
   "cell_type": "markdown",
   "metadata": {},
   "source": [
    "The sequence of terms in Newton's method $x_{i + 1} = \\frac{1}{2} \\left( x_i + n/x_i\\right)$ is suggestive of the interval halving method of a typical binary search. We can reformulate the algorithm accordingly."
   ]
  },
  {
   "cell_type": "code",
   "execution_count": 31,
   "metadata": {},
   "outputs": [],
   "source": [
    "def binary(n: int) -> int:\n",
    "    hi = 2**((n.bit_length() + 1)//2)\n",
    "    lo = n // hi\n",
    "    \n",
    "    while lo < hi:\n",
    "        hi = (hi + lo)//2\n",
    "        lo = n//hi\n",
    "    \n",
    "    return hi\n",
    "\n",
    "for n in range(1, 10000):\n",
    "    m = binary(n)\n",
    "    assert m**2 <= n < (m + 1)**2"
   ]
  },
  {
   "cell_type": "code",
   "execution_count": 68,
   "metadata": {},
   "outputs": [],
   "source": [
    "t = 10**1000 + 11**1000 + 12**1000 + 13**1000"
   ]
  },
  {
   "cell_type": "code",
   "execution_count": 69,
   "metadata": {},
   "outputs": [],
   "source": [
    "r = newton(t)\n",
    "assert r**2 <= t <= (r + 1)**2"
   ]
  },
  {
   "cell_type": "code",
   "execution_count": 70,
   "metadata": {},
   "outputs": [],
   "source": [
    "r = binary(t)\n",
    "assert r**2 <= t <= (r + 1)**2"
   ]
  },
  {
   "cell_type": "code",
   "execution_count": 71,
   "metadata": {},
   "outputs": [
    {
     "name": "stdout",
     "output_type": "stream",
     "text": [
      "180 µs ± 508 ns per loop (mean ± std. dev. of 7 runs, 10000 loops each)\n"
     ]
    }
   ],
   "source": [
    "timeit newton(t)"
   ]
  },
  {
   "cell_type": "code",
   "execution_count": 72,
   "metadata": {},
   "outputs": [
    {
     "name": "stdout",
     "output_type": "stream",
     "text": [
      "178 µs ± 300 ns per loop (mean ± std. dev. of 7 runs, 10000 loops each)\n"
     ]
    }
   ],
   "source": [
    "timeit binary(t)"
   ]
  },
  {
   "cell_type": "markdown",
   "metadata": {},
   "source": [
    "Combining these ideas with some error checking gives a nice algorithm for computing integer square roots for $n \\geq 0$."
   ]
  },
  {
   "cell_type": "code",
   "execution_count": 41,
   "metadata": {},
   "outputs": [],
   "source": [
    "def integer_sqrt(n: int) -> int:\n",
    "    \"\"\"\n",
    "    Returns the integer square root of n >= 0 - the integer m satisfying\n",
    "    m**2 <= n < (m + 1)**2.\n",
    "    \n",
    "    Parameters:\n",
    "        n: int (n >= 0)\n",
    "    \n",
    "    Examples:\n",
    "        >>> integer_sqrt(10)\n",
    "        3\n",
    "        >>> integer_sqrt(121)\n",
    "        11\n",
    "    \"\"\"\n",
    "    if n < 0:\n",
    "        raise ValueError(\"integer_sqrt: must have n >= 0.\")\n",
    "    if n <= 1:\n",
    "        return n\n",
    "    \n",
    "    hi = 2**((n.bit_length() + 1)//2)\n",
    "    lo = n // hi\n",
    "    \n",
    "    while lo < hi:\n",
    "        hi = (hi + lo)//2\n",
    "        lo = n//hi\n",
    "    \n",
    "    return hi"
   ]
  },
  {
   "cell_type": "code",
   "execution_count": 73,
   "metadata": {},
   "outputs": [
    {
     "name": "stdout",
     "output_type": "stream",
     "text": [
      "178 µs ± 557 ns per loop (mean ± std. dev. of 7 runs, 10000 loops each)\n"
     ]
    }
   ],
   "source": [
    "timeit integer_sqrt(t)"
   ]
  },
  {
   "cell_type": "code",
   "execution_count": 74,
   "metadata": {},
   "outputs": [
    {
     "data": {
      "text/plain": [
       "3"
      ]
     },
     "execution_count": 74,
     "metadata": {},
     "output_type": "execute_result"
    }
   ],
   "source": [
    "integer_sqrt(10)"
   ]
  },
  {
   "cell_type": "code",
   "execution_count": 75,
   "metadata": {},
   "outputs": [
    {
     "data": {
      "text/plain": [
       "11"
      ]
     },
     "execution_count": 75,
     "metadata": {},
     "output_type": "execute_result"
    }
   ],
   "source": [
    "integer_sqrt(121)"
   ]
  },
  {
   "cell_type": "markdown",
   "metadata": {},
   "source": [
    "### Detecting perfect squares"
   ]
  },
  {
   "cell_type": "markdown",
   "metadata": {},
   "source": [
    "This method may be used to check if an integer is a perfect square: simply check if the square of the integer square root is the original integer."
   ]
  },
  {
   "cell_type": "code",
   "execution_count": 76,
   "metadata": {},
   "outputs": [
    {
     "name": "stdout",
     "output_type": "stream",
     "text": [
      "0\n",
      "1\n",
      "4\n",
      "9\n",
      "16\n",
      "25\n",
      "36\n",
      "49\n",
      "64\n",
      "81\n"
     ]
    }
   ],
   "source": [
    "def is_square(n: int) -> bool:\n",
    "    r = integer_sqrt(n)\n",
    "    return r*r == n\n",
    "\n",
    "for k in range(100):\n",
    "    if is_square(k):\n",
    "        print(k)"
   ]
  },
  {
   "cell_type": "markdown",
   "metadata": {},
   "source": [
    "It is possible to develop more efficient methods to detect perfect integer squares. These will be covered in a later notebook."
   ]
  },
  {
   "cell_type": "markdown",
   "metadata": {},
   "source": [
    "### Integer $k$th roots"
   ]
  },
  {
   "cell_type": "markdown",
   "metadata": {},
   "source": [
    "Similar to the Newtonian iteration for square roots, we can apply the idea to the polynomial $f(x) = x^k - n$ to compute integer $k$th roots. The iteration becomes $x_{i + 1} = \\frac{1}{k} ((k - 1) x + n/x^{k - 1})$, and we must change the initial approximation, but the logic is largely the same as the previously described Newtonian algorithm for square roots. See Exercise 4.11 in Crandall & Pomerance for details."
   ]
  },
  {
   "cell_type": "code",
   "execution_count": 89,
   "metadata": {},
   "outputs": [],
   "source": [
    "def integer_kth_root(n: int, k: int) -> int:\n",
    "    \"\"\"\n",
    "    Returns the integer kth root of n >= 0 - the integer m satisfying\n",
    "    m**k <= n < (m + 1)**k.\n",
    "    \n",
    "    Parameters:\n",
    "        n: int (n >= 0)\n",
    "        k: int (k >= 2)\n",
    "    \n",
    "    Examples:\n",
    "        >>> integer_kth_root(100, 3)\n",
    "        3\n",
    "        >>> integer_kth_root(121)\n",
    "        11\n",
    "    \"\"\"\n",
    "    if n < 0:\n",
    "        raise ValueError(\"integer_kth_root: must have n >= 0.\")\n",
    "    if k < 1:\n",
    "        raise ValueError(\"integer_kth_root: must have k >= 2.\")\n",
    "    if n <= 1:\n",
    "        return n\n",
    "    \n",
    "    x = 2**((n.bit_length())//k + 1)\n",
    "    \n",
    "    while True:\n",
    "        y = ((k - 1)*x + n//x**(k - 1))//k\n",
    "        if y < x:\n",
    "            x = y\n",
    "        else:\n",
    "            break\n",
    "            \n",
    "    return x\n",
    "\n",
    "for k in range(2, 10):\n",
    "    for n in range(1000):\n",
    "        r = integer_kth_root(n, k)\n",
    "        assert r**k <= n < (r + 1)**k"
   ]
  },
  {
   "cell_type": "code",
   "execution_count": 90,
   "metadata": {},
   "outputs": [
    {
     "name": "stdout",
     "output_type": "stream",
     "text": [
      "146 µs ± 315 ns per loop (mean ± std. dev. of 7 runs, 10000 loops each)\n"
     ]
    }
   ],
   "source": [
    "timeit integer_kth_root(t, 13)"
   ]
  },
  {
   "cell_type": "code",
   "execution_count": 99,
   "metadata": {},
   "outputs": [
    {
     "data": {
      "text/plain": [
       "4"
      ]
     },
     "execution_count": 99,
     "metadata": {},
     "output_type": "execute_result"
    }
   ],
   "source": [
    "integer_kth_root(100, 3)"
   ]
  },
  {
   "cell_type": "code",
   "execution_count": 103,
   "metadata": {},
   "outputs": [
    {
     "data": {
      "text/plain": [
       "4.641588833612778"
      ]
     },
     "execution_count": 103,
     "metadata": {},
     "output_type": "execute_result"
    }
   ],
   "source": [
    "100**(1.0/3)"
   ]
  },
  {
   "cell_type": "code",
   "execution_count": 104,
   "metadata": {},
   "outputs": [
    {
     "data": {
      "text/plain": [
       "22"
      ]
     },
     "execution_count": 104,
     "metadata": {},
     "output_type": "execute_result"
    }
   ],
   "source": [
    "integer_kth_root(123456789, 6)"
   ]
  },
  {
   "cell_type": "code",
   "execution_count": 105,
   "metadata": {},
   "outputs": [
    {
     "data": {
      "text/plain": [
       "22.31443163556209"
      ]
     },
     "execution_count": 105,
     "metadata": {},
     "output_type": "execute_result"
    }
   ],
   "source": [
    "123456789**(1.0/6)"
   ]
  },
  {
   "cell_type": "markdown",
   "metadata": {},
   "source": [
    "### Detecting $k$th powers\n",
    "\n",
    "As with the square detection described earlier, we can use this to detect perfect $k$th powers."
   ]
  },
  {
   "cell_type": "code",
   "execution_count": 92,
   "metadata": {},
   "outputs": [],
   "source": [
    "def is_kth_power(n: int, k: int) -> bool:\n",
    "    r = integer_kth_root(n, k)\n",
    "    return r**k == n\n",
    "\n",
    "assert is_kth_power(9, 2)\n",
    "assert is_kth_power(81, 4)\n",
    "assert is_kth_power(10**6, 6)"
   ]
  },
  {
   "cell_type": "markdown",
   "metadata": {},
   "source": [
    "## References\n",
    "\n",
    "[1] H. Cohen, \"A Course in Computational Algebraic Number Theory\",\n",
    "Springer-Verlag, New York, 2000.\n",
    "\n",
    "[2] R. Crandall, C. Pomerance, \"Prime Numbers: A Computational\n",
    "Perspective\", Springer-Verlag, New York, 2001."
   ]
  }
 ],
 "metadata": {
  "kernelspec": {
   "display_name": "Python 3",
   "language": "python",
   "name": "python3"
  },
  "language_info": {
   "codemirror_mode": {
    "name": "ipython",
    "version": 3
   },
   "file_extension": ".py",
   "mimetype": "text/x-python",
   "name": "python",
   "nbconvert_exporter": "python",
   "pygments_lexer": "ipython3",
   "version": "3.9.2"
  }
 },
 "nbformat": 4,
 "nbformat_minor": 4
}
