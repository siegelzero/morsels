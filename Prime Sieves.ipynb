{
 "cells": [
  {
   "cell_type": "code",
   "execution_count": 1,
   "metadata": {},
   "outputs": [],
   "source": [
    "import numpy as np\n",
    "\n",
    "from typing import Dict, List\n",
    "\n",
    "from core import integer_sqrt"
   ]
  },
  {
   "cell_type": "markdown",
   "metadata": {},
   "source": [
    "# Prime Number Sieves\n",
    "\n",
    "A prime number sieve is an algorithm that generates all primes up to a given bound $n$."
   ]
  },
  {
   "cell_type": "markdown",
   "metadata": {},
   "source": [
    "## The Sieve of Eratosthenes\n",
    "\n",
    "The first method we discuss is the oldest; the sieve of Eratosthenes.\n",
    "In its basic form, we operate on `block`, a boolean array of size $n + 1$, representing each integer $0 \\leq k \\leq n$.\n",
    "When the sieve is complete, `block[k]` will be `True` or `False` to indicate the primality or non-primality of $k$.\n",
    "\n",
    "We begin by setting `block[k] = False` for $k = 1, 2$ to indicate that these values $k$ are not prime.\n",
    "We then proceed to sieve by each integer $2 \\leq k \\leq \\sqrt{n}$.\n",
    "When `block[k] == True`, this indicates that $k$ is prime, so we sieve out the multiples of $k$.\n",
    "In order to keep `block[k] == True`, we won't mark out `block[k]`, but intead will begin the sieve at the $k^2$ index.\n",
    "This can be done in numpy as `block[k*k::k] = False`.\n",
    "\n",
    "Once this is done for $k \\leq \\sqrt{n}$, we will have marked out all multiples of primes $\\leq \\sqrt{n}$, except for these primes themselves. As a result, each prime $\\sqrt{n} < p \\leq{n}$ will be left unmarked in our array, and so our array will hold all the primes $\\leq n$."
   ]
  },
  {
   "cell_type": "code",
   "execution_count": 2,
   "metadata": {},
   "outputs": [],
   "source": [
    "def eratosthenes(n: int) -> List[int]:\n",
    "    \"\"\"Returns a list of primes <= n, using the sieve of Eratosthenes\"\"\"\n",
    "    block = np.ones(n + 1, dtype=bool)\n",
    "    block[0] = block[1] = False\n",
    "    \n",
    "    for k in range(2, integer_sqrt(n) + 1):\n",
    "        if block[k]:\n",
    "            block[k*k::k] = False\n",
    "    \n",
    "    return np.flatnonzero(block).tolist()"
   ]
  },
  {
   "cell_type": "markdown",
   "metadata": {},
   "source": [
    "This implementation uses $O(n)$ space for the sieve block.\n",
    "\n",
    "For each of the primes $p\\leq \\sqrt{n}$ that we encounter, we mark out all $\\left\\lfloor\\frac{n}{p}\\right\\rfloor$ multiples of $p$ from the block.\n",
    "It then follows from the bound\n",
    "$$\n",
    "    \\sum_{p \\leq n} \\frac{1}{p} = \\log \\log n + O(1)\n",
    "$$\n",
    "that we have\n",
    "$$\n",
    "    \\sum_{p \\leq \\sqrt{n}} \\frac{n}{p} = O(n \\log \\log n).\n",
    "$$\n",
    "This gives a time complexity of $O(n \\log \\log n)$ for our sieve algorithm."
   ]
  },
  {
   "cell_type": "code",
   "execution_count": 6,
   "metadata": {},
   "outputs": [
    {
     "data": {
      "text/plain": [
       "[2, 3, 5, 7, 11, 13, 17, 19, 23, 29, 31]"
      ]
     },
     "execution_count": 6,
     "metadata": {},
     "output_type": "execute_result"
    }
   ],
   "source": [
    "eratosthenes(31)"
   ]
  },
  {
   "cell_type": "code",
   "execution_count": 7,
   "metadata": {},
   "outputs": [
    {
     "data": {
      "text/plain": [
       "25"
      ]
     },
     "execution_count": 7,
     "metadata": {},
     "output_type": "execute_result"
    }
   ],
   "source": [
    "len(eratosthenes(100))"
   ]
  },
  {
   "cell_type": "code",
   "execution_count": 21,
   "metadata": {},
   "outputs": [
    {
     "name": "stdout",
     "output_type": "stream",
     "text": [
      "145 ms ± 1.47 ms per loop (mean ± std. dev. of 7 runs, 10 loops each)\n"
     ]
    }
   ],
   "source": [
    "timeit len(eratosthenes(10**7))"
   ]
  },
  {
   "cell_type": "markdown",
   "metadata": {},
   "source": [
    "## First extension of the Sieve of Eratosthenes\n",
    "\n",
    "The first extension to the sieve is based on the fact that 2 is the only even prime.\n",
    "This allows us to reduce our space requirements by half, since we only need to sieve the odd integers $\\leq n$.\n",
    "\n",
    "As before, we have a `block` of `bools`, representing the odd integers $1, 3, \\ldots, 2 l + 1 \\leq n$.\n",
    "The primality of each $k = 2 l + 1$ will be indicated by `block[k//2]` once the sieve process is complete.\n",
    "\n",
    "After setting `block[0] = False` to mark $k = 1$ as not prime, we then sieve by the odd integers $3 \\leq k \\leq \\sqrt{n}$.\n",
    "Encountering `block[k//2] == True` indicates that `k` is prime, and so we sieve out its multiples by `block[k*k//2::k] = False`. Once the sieve process is complete, locate the `True` indices in the array, translate each to the odd prime it represents, and prepend the even prime to obtain all primes $\\leq n$."
   ]
  },
  {
   "cell_type": "code",
   "execution_count": 348,
   "metadata": {},
   "outputs": [],
   "source": [
    "def eratosthenes2(n: int) -> List[int]:\n",
    "    \"\"\"Returns a list of primes <= n, using the sieve of Eratosthenes\"\"\"\n",
    "    block_size = (n + 1)//2\n",
    "    block = np.ones(block_size, dtype=bool)\n",
    "    # 1, 3, 5, ..., n\n",
    "    # 2*0 + 1, 2*1 + 1, 2*2 + 1, ...\n",
    "    # 2*l + 1 is prime iff block[l] == True\n",
    "    # i.e. odd k is prime iff block[k//2] == True\n",
    "    block[0] = False\n",
    "\n",
    "    for k in range(3, integer_sqrt(n) + 1, 2):\n",
    "        if block[k//2]:\n",
    "            block[k*k//2::k] = False\n",
    "\n",
    "    nonzero = np.flatnonzero(block)\n",
    "    return np.r_[2, 2*nonzero + 1].tolist()"
   ]
  },
  {
   "cell_type": "code",
   "execution_count": 346,
   "metadata": {},
   "outputs": [
    {
     "data": {
      "text/plain": [
       "[2, 3, 5, 7, 11]"
      ]
     },
     "execution_count": 346,
     "metadata": {},
     "output_type": "execute_result"
    }
   ],
   "source": [
    "eratosthenes2(11)"
   ]
  },
  {
   "cell_type": "code",
   "execution_count": 347,
   "metadata": {},
   "outputs": [
    {
     "name": "stdout",
     "output_type": "stream",
     "text": [
      "1.15 s ± 11.1 ms per loop (mean ± std. dev. of 7 runs, 1 loop each)\n"
     ]
    }
   ],
   "source": [
    "timeit len(eratosthenes2(10**8))"
   ]
  },
  {
   "cell_type": "markdown",
   "metadata": {},
   "source": [
    "This method has the same time and space complexity as the ordinary sieve of Eratosthenes, but for practical purposes, it uses roughly half the space for a given value $n$."
   ]
  },
  {
   "cell_type": "markdown",
   "metadata": {},
   "source": [
    "## Second extension"
   ]
  },
  {
   "cell_type": "code",
   "execution_count": 323,
   "metadata": {},
   "outputs": [],
   "source": [
    "def luo(n: int) -> List[int]:\n",
    "    block_size = (n + 1)//3 + (n % 6 == 1)\n",
    "    block = np.ones(block_size, dtype=bool)\n",
    "    block[0] = False\n",
    "    c, k, t = 0, 1, 2\n",
    "\n",
    "    for i in range(1, integer_sqrt(n)//3 + 1):\n",
    "        k = 3 - k\n",
    "        c += 4*k*i\n",
    "        t += 4*k\n",
    "\n",
    "        if block[i]:\n",
    "            b = c + 2*i*(3 - k) + 1\n",
    "            block[c::t] = False\n",
    "            block[b::t] = False\n",
    "\n",
    "    nonzero = np.flatnonzero(block)\n",
    "    return np.r_[2, 3, (3*nonzero + 1) | 1].tolist()"
   ]
  },
  {
   "cell_type": "code",
   "execution_count": 349,
   "metadata": {},
   "outputs": [
    {
     "name": "stdout",
     "output_type": "stream",
     "text": [
      "84.5 ms ± 100 µs per loop (mean ± std. dev. of 7 runs, 10 loops each)\n"
     ]
    }
   ],
   "source": [
    "timeit len(luo(10**7))"
   ]
  },
  {
   "cell_type": "code",
   "execution_count": 353,
   "metadata": {},
   "outputs": [
    {
     "name": "stdout",
     "output_type": "stream",
     "text": [
      "94.5 ms ± 162 µs per loop (mean ± std. dev. of 7 runs, 10 loops each)\n"
     ]
    }
   ],
   "source": [
    "timeit len(eratosthenes2(10**7))"
   ]
  },
  {
   "cell_type": "code",
   "execution_count": 350,
   "metadata": {},
   "outputs": [
    {
     "name": "stdout",
     "output_type": "stream",
     "text": [
      "206 ms ± 508 µs per loop (mean ± std. dev. of 7 runs, 1 loop each)\n"
     ]
    }
   ],
   "source": [
    "timeit sum(1 for _ in sieve_interval(2, 10**7))"
   ]
  },
  {
   "cell_type": "code",
   "execution_count": 351,
   "metadata": {},
   "outputs": [
    {
     "name": "stdout",
     "output_type": "stream",
     "text": [
      "184 ms ± 274 µs per loop (mean ± std. dev. of 7 runs, 10 loops each)\n"
     ]
    }
   ],
   "source": [
    "timeit sum(1 for _ in sieve_interval2(2, 10**7))"
   ]
  },
  {
   "cell_type": "markdown",
   "metadata": {},
   "source": [
    "## Segmented Sieves"
   ]
  },
  {
   "cell_type": "code",
   "execution_count": 286,
   "metadata": {},
   "outputs": [],
   "source": [
    "def sieve_interval(a, b):\n",
    "    sqrt = integer_sqrt(b)\n",
    "    small_primes = luo(sqrt)\n",
    "    block_size = 10**6\n",
    "    \n",
    "    for p in small_primes:\n",
    "        if a <= p < b:\n",
    "            yield p\n",
    "       \n",
    "    for start in range(max(sqrt + 1, a), b, block_size):\n",
    "        block = np.ones(min(block_size, b - start), dtype=bool)\n",
    "        for p in small_primes:\n",
    "            multiple = ((start // p) + (start % p > 0))*p\n",
    "            block[multiple - start::p] = False\n",
    "\n",
    "        nonzero = np.flatnonzero(block)\n",
    "        for p in (start + nonzero).tolist():\n",
    "            yield p"
   ]
  },
  {
   "cell_type": "code",
   "execution_count": 294,
   "metadata": {},
   "outputs": [],
   "source": [
    "def sieve_interval2(a, b):\n",
    "    sqrt = integer_sqrt(b)\n",
    "    small_primes = luo(sqrt)[1:]\n",
    "    block_size = 10**6\n",
    "    \n",
    "    if a <= 2:\n",
    "        yield 2\n",
    "        \n",
    "    for p in small_primes:\n",
    "        if a <= p < b:\n",
    "            yield p\n",
    "\n",
    "    bb = b + b % 2\n",
    "    aa = max(sqrt + 1, a)\n",
    "    aa = aa - (aa % 2)\n",
    "       \n",
    "    for start in range(aa, bb, 2*block_size):\n",
    "        block = np.ones(min(block_size, (bb - start)//2), dtype=bool)\n",
    "        for p in small_primes:\n",
    "            offset = -(start + 1 + p)//2 % p\n",
    "            block[offset::p] = False\n",
    "\n",
    "        nonzero = np.flatnonzero(block)\n",
    "        for p in (2*nonzero + (start + 1)).tolist():\n",
    "            yield p"
   ]
  },
  {
   "cell_type": "code",
   "execution_count": 295,
   "metadata": {},
   "outputs": [
    {
     "data": {
      "text/plain": [
       "True"
      ]
     },
     "execution_count": 295,
     "metadata": {},
     "output_type": "execute_result"
    }
   ],
   "source": [
    "list(sieve_interval(2, 100)) == luo(100)"
   ]
  },
  {
   "cell_type": "code",
   "execution_count": 296,
   "metadata": {},
   "outputs": [
    {
     "data": {
      "text/plain": [
       "[2,\n",
       " 3,\n",
       " 5,\n",
       " 7,\n",
       " 11,\n",
       " 13,\n",
       " 17,\n",
       " 19,\n",
       " 23,\n",
       " 29,\n",
       " 31,\n",
       " 37,\n",
       " 41,\n",
       " 43,\n",
       " 47,\n",
       " 53,\n",
       " 59,\n",
       " 61,\n",
       " 67,\n",
       " 71,\n",
       " 73,\n",
       " 79,\n",
       " 83,\n",
       " 89,\n",
       " 97]"
      ]
     },
     "execution_count": 296,
     "metadata": {},
     "output_type": "execute_result"
    }
   ],
   "source": [
    "list(sieve_interval(2, 100))"
   ]
  },
  {
   "cell_type": "code",
   "execution_count": 308,
   "metadata": {},
   "outputs": [
    {
     "name": "stdout",
     "output_type": "stream",
     "text": [
      "12.2 s ± 485 ms per loop (mean ± std. dev. of 7 runs, 1 loop each)\n"
     ]
    }
   ],
   "source": [
    "timeit sum(luo(10**9))"
   ]
  },
  {
   "cell_type": "code",
   "execution_count": 309,
   "metadata": {},
   "outputs": [
    {
     "name": "stdout",
     "output_type": "stream",
     "text": [
      "23.4 s ± 25.5 ms per loop (mean ± std. dev. of 7 runs, 1 loop each)\n"
     ]
    }
   ],
   "source": [
    "timeit sum(p for p in sieve_interval(2, 10**9))"
   ]
  },
  {
   "cell_type": "code",
   "execution_count": 310,
   "metadata": {},
   "outputs": [
    {
     "name": "stdout",
     "output_type": "stream",
     "text": [
      "17.8 s ± 50 ms per loop (mean ± std. dev. of 7 runs, 1 loop each)\n"
     ]
    }
   ],
   "source": [
    "timeit sum(p for p in sieve_interval2(2, 10**9))"
   ]
  },
  {
   "cell_type": "code",
   "execution_count": 298,
   "metadata": {},
   "outputs": [
    {
     "data": {
      "text/plain": [
       "True"
      ]
     },
     "execution_count": 298,
     "metadata": {},
     "output_type": "execute_result"
    }
   ],
   "source": [
    "list(sieve_interval(400, 22000)) == list(sieve_interval2(400, 22000))"
   ]
  },
  {
   "cell_type": "code",
   "execution_count": 299,
   "metadata": {},
   "outputs": [
    {
     "name": "stdout",
     "output_type": "stream",
     "text": [
      "CPU times: user 2.08 s, sys: 56 ms, total: 2.14 s\n",
      "Wall time: 2.14 s\n"
     ]
    },
    {
     "data": {
      "text/plain": [
       "279209790387276"
      ]
     },
     "execution_count": 299,
     "metadata": {},
     "output_type": "execute_result"
    }
   ],
   "source": [
    "time sum(p for p in sieve_interval(2, 10**8))"
   ]
  },
  {
   "cell_type": "code",
   "execution_count": 300,
   "metadata": {},
   "outputs": [
    {
     "name": "stdout",
     "output_type": "stream",
     "text": [
      "CPU times: user 4.01 s, sys: 44.1 ms, total: 4.06 s\n",
      "Wall time: 4.05 s\n"
     ]
    },
    {
     "data": {
      "text/plain": [
       "[1000000000000037, 1000000000000091, 1000000000000159, 1000000000000187]"
      ]
     },
     "execution_count": 300,
     "metadata": {},
     "output_type": "execute_result"
    }
   ],
   "source": [
    "time list(p for p in sieve_interval2(10**15, 10**15 + 200))"
   ]
  },
  {
   "cell_type": "code",
   "execution_count": 301,
   "metadata": {},
   "outputs": [
    {
     "name": "stdout",
     "output_type": "stream",
     "text": [
      "CPU times: user 4.32 s, sys: 115 ms, total: 4.44 s\n",
      "Wall time: 4.44 s\n"
     ]
    },
    {
     "data": {
      "text/plain": [
       "[1000000000000037, 1000000000000091, 1000000000000159, 1000000000000187]"
      ]
     },
     "execution_count": 301,
     "metadata": {},
     "output_type": "execute_result"
    }
   ],
   "source": [
    "time list(p for p in sieve_interval(10**15, 10**15 + 200))"
   ]
  },
  {
   "cell_type": "code",
   "execution_count": null,
   "metadata": {},
   "outputs": [],
   "source": []
  }
 ],
 "metadata": {
  "kernelspec": {
   "display_name": "Python 3",
   "language": "python",
   "name": "python3"
  },
  "language_info": {
   "codemirror_mode": {
    "name": "ipython",
    "version": 3
   },
   "file_extension": ".py",
   "mimetype": "text/x-python",
   "name": "python",
   "nbconvert_exporter": "python",
   "pygments_lexer": "ipython3",
   "version": "3.9.2"
  }
 },
 "nbformat": 4,
 "nbformat_minor": 4
}
