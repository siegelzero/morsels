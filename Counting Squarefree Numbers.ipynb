{
 "cells": [
  {
   "cell_type": "markdown",
   "metadata": {},
   "source": [
    "# Counting Squarefree numbers\n",
    "\n",
    "A positive integer that is not divisible by the square of any prime is called **squarefree**. For example, $5$ is squarefree, but $20$ is not, since $2^2 \\mid 20$.\n",
    "\n",
    "Let $\\mathcal{Q}(x)$ denote the number of squarefree integers not exceeding $x$.\n",
    "\n",
    "In this notebook, we will cover methods to count squarefree numbers."
   ]
  },
  {
   "cell_type": "code",
   "execution_count": 1,
   "metadata": {},
   "outputs": [],
   "source": [
    "import numpy as np\n",
    "\n",
    "from typing import Dict\n",
    "\n",
    "from core import integer_sqrt"
   ]
  },
  {
   "cell_type": "markdown",
   "metadata": {},
   "source": [
    "## Brute force counting\n",
    "\n",
    "It is simple to determine whether an integer is squarefree based on its prime factorization. We can obtain the factorizations of all integers $\\leq x$ by a simple sieve."
   ]
  },
  {
   "cell_type": "code",
   "execution_count": 2,
   "metadata": {},
   "outputs": [],
   "source": [
    "def factorizations(n: int) -> Dict[int, Dict[int, int]]:\n",
    "    \"\"\"Returns dict containing factorizations of integers k, 2 <= k < n.\n",
    "    \n",
    "    Parameters:\n",
    "        n: int\n",
    "    \n",
    "    Returns:\n",
    "        Dict[int, Dict[int, int]]: Map containing factorizations for each\n",
    "        integer 2 <= k < n. Each factorization is a map prime -> exponent.\n",
    "    \"\"\"\n",
    "    block = list(range(n))\n",
    "    factors = {k: {} for k in range(2, n)}\n",
    "    \n",
    "    for d in range(2, n):\n",
    "        if block[d] == 1:\n",
    "            continue\n",
    "            \n",
    "        for multiple in range(d, n, d):\n",
    "            factors[multiple][d] = 0\n",
    "            \n",
    "            while block[multiple] % d == 0:\n",
    "                block[multiple] //= d\n",
    "                factors[multiple][d] += 1\n",
    "    \n",
    "    return factors\n",
    "\n",
    "\n",
    "# Simple sanity test on small values\n",
    "for (k, factorization) in factorizations(1000).items():\n",
    "    product = 1\n",
    "    for (p, e) in factorization.items():\n",
    "        product *= p**e\n",
    "    assert k == product"
   ]
  },
  {
   "cell_type": "code",
   "execution_count": 3,
   "metadata": {},
   "outputs": [
    {
     "data": {
      "text/plain": [
       "{2: {2: 1},\n",
       " 3: {3: 1},\n",
       " 4: {2: 2},\n",
       " 5: {5: 1},\n",
       " 6: {2: 1, 3: 1},\n",
       " 7: {7: 1},\n",
       " 8: {2: 3},\n",
       " 9: {3: 2},\n",
       " 10: {2: 1, 5: 1},\n",
       " 11: {11: 1},\n",
       " 12: {2: 2, 3: 1},\n",
       " 13: {13: 1},\n",
       " 14: {2: 1, 7: 1},\n",
       " 15: {3: 1, 5: 1},\n",
       " 16: {2: 4},\n",
       " 17: {17: 1},\n",
       " 18: {2: 1, 3: 2},\n",
       " 19: {19: 1}}"
      ]
     },
     "execution_count": 3,
     "metadata": {},
     "output_type": "execute_result"
    }
   ],
   "source": [
    "# Prime factorizations of integers < 20, given as prime: exponent dicts\n",
    "factorizations(20)"
   ]
  },
  {
   "cell_type": "markdown",
   "metadata": {},
   "source": [
    "Given the factorizations, it is simple to detect squarefree integers."
   ]
  },
  {
   "cell_type": "code",
   "execution_count": 4,
   "metadata": {},
   "outputs": [],
   "source": [
    "def is_squarefree(factorization: Dict[int, int]) -> bool:\n",
    "    \"\"\"True if all exponents in the factorization are == 1; False otherwise.\"\"\"\n",
    "    return all(e == 1 for e in factorization.values())"
   ]
  },
  {
   "cell_type": "code",
   "execution_count": 5,
   "metadata": {},
   "outputs": [
    {
     "name": "stdout",
     "output_type": "stream",
     "text": [
      "2 \t 2^1\n",
      "3 \t 3^1\n",
      "5 \t 5^1\n",
      "6 \t 2^1*3^1\n",
      "7 \t 7^1\n",
      "10 \t 2^1*5^1\n",
      "11 \t 11^1\n",
      "13 \t 13^1\n",
      "14 \t 2^1*7^1\n",
      "15 \t 3^1*5^1\n",
      "17 \t 17^1\n",
      "19 \t 19^1\n"
     ]
    }
   ],
   "source": [
    "for k, kfac in factorizations(20).items():\n",
    "    if is_squarefree(kfac):\n",
    "        print(f\"{k} \\t {'*'.join([f'{p}^{e}' for (p, e) in kfac.items()])}\")"
   ]
  },
  {
   "cell_type": "markdown",
   "metadata": {},
   "source": [
    "A function to count squarefree numbers $\\leq n$ can be created using this idea, adding 1 to the count to include the squarefree integer 1."
   ]
  },
  {
   "cell_type": "code",
   "execution_count": 6,
   "metadata": {},
   "outputs": [],
   "source": [
    "def Q_factorizations(n: int) -> int:\n",
    "    \"\"\"Returns the number of squarefree positive intgers <= n\"\"\"\n",
    "    return 1 + sum(is_squarefree(factorization) for factorization in factorizations(n + 1).values())"
   ]
  },
  {
   "cell_type": "code",
   "execution_count": 7,
   "metadata": {},
   "outputs": [
    {
     "name": "stdout",
     "output_type": "stream",
     "text": [
      "CPU times: user 44 µs, sys: 11 µs, total: 55 µs\n",
      "Wall time: 60.8 µs\n"
     ]
    },
    {
     "data": {
      "text/plain": [
       "7"
      ]
     },
     "execution_count": 7,
     "metadata": {},
     "output_type": "execute_result"
    }
   ],
   "source": [
    "time Q_factorizations(10)"
   ]
  },
  {
   "cell_type": "code",
   "execution_count": 8,
   "metadata": {},
   "outputs": [
    {
     "name": "stdout",
     "output_type": "stream",
     "text": [
      "CPU times: user 4.82 ms, sys: 196 µs, total: 5.01 ms\n",
      "Wall time: 4.93 ms\n"
     ]
    },
    {
     "data": {
      "text/plain": [
       "608"
      ]
     },
     "execution_count": 8,
     "metadata": {},
     "output_type": "execute_result"
    }
   ],
   "source": [
    "time Q_factorizations(10**3)"
   ]
  },
  {
   "cell_type": "code",
   "execution_count": 9,
   "metadata": {},
   "outputs": [
    {
     "name": "stdout",
     "output_type": "stream",
     "text": [
      "CPU times: user 5.54 s, sys: 223 ms, total: 5.77 s\n",
      "Wall time: 5.79 s\n"
     ]
    },
    {
     "data": {
      "text/plain": [
       "607926"
      ]
     },
     "execution_count": 9,
     "metadata": {},
     "output_type": "execute_result"
    }
   ],
   "source": [
    "time Q_factorizations(10**6)"
   ]
  },
  {
   "cell_type": "markdown",
   "metadata": {},
   "source": [
    "Since our algorithm requires finding lots of prime factorizations, it has a high time and space complexity. This can be observed in the runtimes."
   ]
  },
  {
   "cell_type": "markdown",
   "metadata": {},
   "source": [
    "## Sieve method\n",
    "\n",
    "We can use a sieve to find squarefree integers, similarly to how we can sieve to find primes. A simple sieve of Eratosthenes can be used to find primes (or something fancier if you prefer). Each squarefree number $\\leq n$ is divisible by $p^2$ for some $p \\leq \\sqrt{n}$. First find all primes $\\leq \\sqrt{n}$, then sieve the interval $1 \\ldots n$ to remove all multiples of each of these primes squared to be left with the squarefree integers in the interval."
   ]
  },
  {
   "cell_type": "code",
   "execution_count": 10,
   "metadata": {},
   "outputs": [],
   "source": [
    "def primes(n: int):\n",
    "    block = np.ones(n, dtype=bool)\n",
    "    block[0] = block[1] = False\n",
    "    \n",
    "    for p in range(2, n):\n",
    "        if block[p]:\n",
    "            block[p*p::p] = False\n",
    "    \n",
    "    return [p for p in range(n) if block[p]]"
   ]
  },
  {
   "cell_type": "code",
   "execution_count": 11,
   "metadata": {},
   "outputs": [],
   "source": [
    "def Q_sieve(n: int) -> int:\n",
    "    block = np.ones(n + 1, dtype=bool)\n",
    "    block[0] = False\n",
    "    bound = integer_sqrt(n) + 1\n",
    "    \n",
    "    for p in primes(bound):\n",
    "        block[p*p::p*p] = False\n",
    "    \n",
    "    return np.count_nonzero(block)"
   ]
  },
  {
   "cell_type": "code",
   "execution_count": 12,
   "metadata": {},
   "outputs": [
    {
     "name": "stdout",
     "output_type": "stream",
     "text": [
      "CPU times: user 95 µs, sys: 6 µs, total: 101 µs\n",
      "Wall time: 108 µs\n"
     ]
    },
    {
     "data": {
      "text/plain": [
       "7"
      ]
     },
     "execution_count": 12,
     "metadata": {},
     "output_type": "execute_result"
    }
   ],
   "source": [
    "time Q_sieve(10)"
   ]
  },
  {
   "cell_type": "code",
   "execution_count": 13,
   "metadata": {},
   "outputs": [
    {
     "name": "stdout",
     "output_type": "stream",
     "text": [
      "CPU times: user 189 µs, sys: 13 µs, total: 202 µs\n",
      "Wall time: 176 µs\n"
     ]
    },
    {
     "data": {
      "text/plain": [
       "608"
      ]
     },
     "execution_count": 13,
     "metadata": {},
     "output_type": "execute_result"
    }
   ],
   "source": [
    "time Q_sieve(10**3)"
   ]
  },
  {
   "cell_type": "code",
   "execution_count": 14,
   "metadata": {},
   "outputs": [
    {
     "name": "stdout",
     "output_type": "stream",
     "text": [
      "CPU times: user 3.52 ms, sys: 0 ns, total: 3.52 ms\n",
      "Wall time: 2.73 ms\n"
     ]
    },
    {
     "data": {
      "text/plain": [
       "607926"
      ]
     },
     "execution_count": 14,
     "metadata": {},
     "output_type": "execute_result"
    }
   ],
   "source": [
    "time Q_sieve(10**6)"
   ]
  },
  {
   "cell_type": "code",
   "execution_count": 15,
   "metadata": {},
   "outputs": [
    {
     "name": "stdout",
     "output_type": "stream",
     "text": [
      "CPU times: user 123 ms, sys: 23.9 ms, total: 147 ms\n",
      "Wall time: 150 ms\n"
     ]
    },
    {
     "data": {
      "text/plain": [
       "60792694"
      ]
     },
     "execution_count": 15,
     "metadata": {},
     "output_type": "execute_result"
    }
   ],
   "source": [
    "time Q_sieve(10**8)"
   ]
  },
  {
   "cell_type": "code",
   "execution_count": 16,
   "metadata": {},
   "outputs": [
    {
     "name": "stdout",
     "output_type": "stream",
     "text": [
      "CPU times: user 1.18 s, sys: 192 ms, total: 1.37 s\n",
      "Wall time: 1.37 s\n"
     ]
    },
    {
     "data": {
      "text/plain": [
       "607927124"
      ]
     },
     "execution_count": 16,
     "metadata": {},
     "output_type": "execute_result"
    }
   ],
   "source": [
    "time Q_sieve(10**9)"
   ]
  },
  {
   "cell_type": "markdown",
   "metadata": {},
   "source": [
    "This method is much faster, but still has $O(n)$ space since we store the entire interval $1 \\ldots n$ in memory and $O(n)$ time since we sieve each entry in this interval.\n",
    "\n",
    "\n",
    "## Segmented Sieve\n",
    "\n",
    "We can reduce the space complexity by using a segmented sieve. We need to store the primes $\\leq \\sqrt{n}$, which is roughly $O(\\sqrt{n} / \\log(n))$ A segmented sieve with block size $B(n)$ would then give an $O(\\sqrt{n}/log(n) + B(n))$ space requirement.\n",
    "\n",
    "Breaking this up with a segmented sieve would not reduce the $O(n)$ time complexity, since we are still sieving all integers in the interval. However, we can reduce the time complexity via other methods."
   ]
  },
  {
   "cell_type": "markdown",
   "metadata": {},
   "source": [
    "The idea of a segmented sieve is to break the interval $[1, n]$ into smaller intervals of a given block size, and sieve each of these as we did in the previous algorithm. This allows us to tune the space complexity by adjusting the block size at the cost of more bookkeeping. This adds code complexity as well as to the runtime."
   ]
  },
  {
   "cell_type": "code",
   "execution_count": 17,
   "metadata": {},
   "outputs": [],
   "source": [
    "def Q_segmented(n: int) -> int:\n",
    "    prime_squares = [p**2 for p in primes(integer_sqrt(n))]\n",
    "    block_size = 2**20\n",
    "    count = 0\n",
    "    \n",
    "    for start in range(1, n + 1, block_size):\n",
    "        block = np.ones(min(block_size, n - start), dtype=bool)\n",
    "        for p2 in prime_squares:\n",
    "            # first multiple of p^2 that is >= start\n",
    "            multiple = ((start // p2) + (start % p2 > 0))*p2\n",
    "            block[multiple - start::p2] = False\n",
    "        count += np.count_nonzero(block)\n",
    "                \n",
    "    return count"
   ]
  },
  {
   "cell_type": "code",
   "execution_count": 18,
   "metadata": {},
   "outputs": [
    {
     "name": "stdout",
     "output_type": "stream",
     "text": [
      "CPU times: user 259 ms, sys: 3.6 ms, total: 263 ms\n",
      "Wall time: 262 ms\n"
     ]
    },
    {
     "data": {
      "text/plain": [
       "60792694"
      ]
     },
     "execution_count": 18,
     "metadata": {},
     "output_type": "execute_result"
    }
   ],
   "source": [
    "time Q_segmented(10**8)"
   ]
  },
  {
   "cell_type": "code",
   "execution_count": 19,
   "metadata": {},
   "outputs": [
    {
     "name": "stdout",
     "output_type": "stream",
     "text": [
      "CPU times: user 5.75 s, sys: 1.07 ms, total: 5.76 s\n",
      "Wall time: 5.76 s\n"
     ]
    },
    {
     "data": {
      "text/plain": [
       "607927124"
      ]
     },
     "execution_count": 19,
     "metadata": {},
     "output_type": "execute_result"
    }
   ],
   "source": [
    "time Q_segmented(10**9)"
   ]
  },
  {
   "cell_type": "markdown",
   "metadata": {},
   "source": [
    "## Combinatorial Method I\n",
    "\n",
    "We first derive a recursive formula for $Q(x)$ by a combinatorial argument.\n",
    "\n",
    "Partition all the $\\lfloor x \\rfloor$ positive integers $\\leq x$ into subsets $S_k$ for $k = 1, 2, \\ldots$ according to their largest square divisor $k^2$. The number of positive integers $\\leq x$ having largest square divisor $k^2$ is then $|S_k| = Q(x / k^2)$. It follows that\n",
    "\n",
    "$$\n",
    "    \\lfloor x \\rfloor = \\sum_{k \\geq 1} |S_k| =  \\sum_{1 \\leq k \\leq \\sqrt{x}} Q\\left(\\frac{x}{k^2}\\right).\n",
    "$$\n",
    "\n",
    "Rearranging gives a recursive formula for $Q(x)$\n",
    "\n",
    "$$\n",
    "    Q(x) = \\lfloor x \\rfloor - \\sum_{2 \\leq k \\leq \\sqrt{x}} Q \\left( \\frac{x}{k^2} \\right).\n",
    "$$\n",
    "\n",
    "This can be used to implement a fast method to compute $Q(x)$ by storing previously computed values, a technique sometimes called *memoization* or just simply *caching* the recursion. Notice that we insert initial value $Q(1) = 1$ into the cache so that the recursion terminates."
   ]
  },
  {
   "cell_type": "code",
   "execution_count": 20,
   "metadata": {},
   "outputs": [],
   "source": [
    "def Q_memo(x, cache={1: 1}):\n",
    "    if x not in cache:\n",
    "        cache[x] = x - sum(Q_memo(x//k**2) for k in range(2, integer_sqrt(x) + 1))\n",
    "    return cache[x]"
   ]
  },
  {
   "cell_type": "code",
   "execution_count": 21,
   "metadata": {},
   "outputs": [
    {
     "name": "stdout",
     "output_type": "stream",
     "text": [
      "CPU times: user 5.62 ms, sys: 83 µs, total: 5.71 ms\n",
      "Wall time: 5.73 ms\n"
     ]
    },
    {
     "data": {
      "text/plain": [
       "607926"
      ]
     },
     "execution_count": 21,
     "metadata": {},
     "output_type": "execute_result"
    }
   ],
   "source": [
    "time Q_memo(10**6)"
   ]
  },
  {
   "cell_type": "code",
   "execution_count": 22,
   "metadata": {},
   "outputs": [
    {
     "name": "stdout",
     "output_type": "stream",
     "text": [
      "CPU times: user 64.3 ms, sys: 222 µs, total: 64.6 ms\n",
      "Wall time: 76 ms\n"
     ]
    },
    {
     "data": {
      "text/plain": [
       "60792694"
      ]
     },
     "execution_count": 22,
     "metadata": {},
     "output_type": "execute_result"
    }
   ],
   "source": [
    "time Q_memo(10**8)"
   ]
  },
  {
   "cell_type": "code",
   "execution_count": 23,
   "metadata": {},
   "outputs": [
    {
     "name": "stdout",
     "output_type": "stream",
     "text": [
      "CPU times: user 225 ms, sys: 42 µs, total: 225 ms\n",
      "Wall time: 225 ms\n"
     ]
    },
    {
     "data": {
      "text/plain": [
       "607927124"
      ]
     },
     "execution_count": 23,
     "metadata": {},
     "output_type": "execute_result"
    }
   ],
   "source": [
    "time Q_memo(10**9)"
   ]
  },
  {
   "cell_type": "code",
   "execution_count": 24,
   "metadata": {},
   "outputs": [
    {
     "name": "stdout",
     "output_type": "stream",
     "text": [
      "CPU times: user 9.96 s, sys: 3.86 ms, total: 9.97 s\n",
      "Wall time: 9.97 s\n"
     ]
    },
    {
     "data": {
      "text/plain": [
       "607927102274"
      ]
     },
     "execution_count": 24,
     "metadata": {},
     "output_type": "execute_result"
    }
   ],
   "source": [
    "time Q_memo(10**12)"
   ]
  },
  {
   "cell_type": "code",
   "execution_count": null,
   "metadata": {},
   "outputs": [],
   "source": []
  },
  {
   "cell_type": "code",
   "execution_count": 25,
   "metadata": {},
   "outputs": [],
   "source": [
    "def Q_moebius(n):\n",
    "    bound = integer_sqrt(n) + 1\n",
    "    moebius = np.ones(bound, dtype=int)\n",
    "    \n",
    "    for p in primes(bound):\n",
    "        moebius[p::p] *= -1\n",
    "        moebius[p*p::p*p] = 0\n",
    "    \n",
    "    return sum(moebius[d]*(n//d**2) for d in range(1, bound))"
   ]
  },
  {
   "cell_type": "code",
   "execution_count": 26,
   "metadata": {},
   "outputs": [
    {
     "name": "stdout",
     "output_type": "stream",
     "text": [
      "CPU times: user 3.26 s, sys: 4.15 ms, total: 3.26 s\n",
      "Wall time: 3.26 s\n"
     ]
    },
    {
     "data": {
      "text/plain": [
       "607927102274"
      ]
     },
     "execution_count": 26,
     "metadata": {},
     "output_type": "execute_result"
    }
   ],
   "source": [
    "time Q_moebius(10**12)"
   ]
  },
  {
   "cell_type": "code",
   "execution_count": null,
   "metadata": {},
   "outputs": [],
   "source": []
  }
 ],
 "metadata": {
  "kernelspec": {
   "display_name": "Python 3",
   "language": "python",
   "name": "python3"
  },
  "language_info": {
   "codemirror_mode": {
    "name": "ipython",
    "version": 3
   },
   "file_extension": ".py",
   "mimetype": "text/x-python",
   "name": "python",
   "nbconvert_exporter": "python",
   "pygments_lexer": "ipython3",
   "version": "3.9.2"
  }
 },
 "nbformat": 4,
 "nbformat_minor": 4
}
