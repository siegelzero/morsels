{
 "cells": [
  {
   "cell_type": "markdown",
   "metadata": {},
   "source": [
    "# Counting Squarefree numbers\n",
    "\n",
    "A positive integer that is not divisible by the square of any prime is called **squarefree**. For example, $5$ is squarefree, but $20$ is not, since $2^2 \\mid 20$.\n",
    "\n",
    "Let $Q(x)$ denote the number of squarefree integers not exceeding $x$.\n",
    "\n",
    "In this notebook, we will cover methods to count squarefree numbers."
   ]
  },
  {
   "cell_type": "code",
   "execution_count": 10,
   "metadata": {},
   "outputs": [],
   "source": [
    "import numpy as np\n",
    "\n",
    "from typing import Dict, List\n",
    "\n",
    "from core import integer_sqrt"
   ]
  },
  {
   "cell_type": "markdown",
   "metadata": {},
   "source": [
    "## Brute force counting\n",
    "\n",
    "It is simple to determine whether an integer is squarefree based on its prime factorization. We can obtain the factorizations of all positive integers below a bound by a simple sieve."
   ]
  },
  {
   "cell_type": "code",
   "execution_count": 11,
   "metadata": {},
   "outputs": [],
   "source": [
    "def factorizations(n: int) -> Dict[int, Dict[int, int]]:\n",
    "    \"\"\"Returns dict containing factorizations of integers k, 2 <= k <= n.\n",
    "    \n",
    "    Parameters:\n",
    "        n: int\n",
    "    \n",
    "    Returns:\n",
    "        Dict[int, Dict[int, int]]: Map containing factorizations for each\n",
    "        integer 2 <= k <= n. Each factorization is a map prime -> exponent.\n",
    "    \"\"\"\n",
    "    block = list(range(n))\n",
    "    factors = {k: {} for k in range(1, n)}\n",
    "    factors[1] = {1: 1}\n",
    "    \n",
    "    for d in range(2, n):\n",
    "        if block[d] == 1:\n",
    "            continue\n",
    "            \n",
    "        for multiple in range(d, n, d):\n",
    "            factors[multiple][d] = 0\n",
    "            \n",
    "            while block[multiple] % d == 0:\n",
    "                block[multiple] //= d\n",
    "                factors[multiple][d] += 1\n",
    "    \n",
    "    return factors\n",
    "\n",
    "\n",
    "# Simple sanity test on small values\n",
    "for (k, factorization) in factorizations(1000).items():\n",
    "    product = 1\n",
    "    for (p, e) in factorization.items():\n",
    "        product *= p**e\n",
    "    assert k == product"
   ]
  },
  {
   "cell_type": "code",
   "execution_count": 12,
   "metadata": {},
   "outputs": [],
   "source": [
    "def divisors(n: int) -> Dict[int, Dict[int, int]]:\n",
    "    \"\"\"Returns dict containing factorizations of integers k, 2 <= k <= n.\n",
    "    \n",
    "    Parameters:\n",
    "        n: int\n",
    "    \n",
    "    Returns:\n",
    "        Dict[int, Dict[int, int]]: Map containing factorizations for each\n",
    "        integer 2 <= k <= n. Each factorization is a map prime -> exponent.\n",
    "    \"\"\"\n",
    "    divisors = {k: [1] for k in range(1, n)}\n",
    "    \n",
    "    for d in range(2, n):            \n",
    "        for multiple in range(d, n, d):\n",
    "            divisors[multiple].append(d)\n",
    "    \n",
    "    return divisors"
   ]
  },
  {
   "cell_type": "code",
   "execution_count": 13,
   "metadata": {},
   "outputs": [
    {
     "data": {
      "text/plain": [
       "{1: {1: 1},\n",
       " 2: {2: 1},\n",
       " 3: {3: 1},\n",
       " 4: {2: 2},\n",
       " 5: {5: 1},\n",
       " 6: {2: 1, 3: 1},\n",
       " 7: {7: 1},\n",
       " 8: {2: 3},\n",
       " 9: {3: 2},\n",
       " 10: {2: 1, 5: 1},\n",
       " 11: {11: 1},\n",
       " 12: {2: 2, 3: 1},\n",
       " 13: {13: 1},\n",
       " 14: {2: 1, 7: 1},\n",
       " 15: {3: 1, 5: 1},\n",
       " 16: {2: 4},\n",
       " 17: {17: 1},\n",
       " 18: {2: 1, 3: 2},\n",
       " 19: {19: 1}}"
      ]
     },
     "execution_count": 13,
     "metadata": {},
     "output_type": "execute_result"
    }
   ],
   "source": [
    "# Prime factorizations of integers < 20, given as prime: exponent dicts\n",
    "factorizations(20)"
   ]
  },
  {
   "cell_type": "markdown",
   "metadata": {},
   "source": [
    "Given the factorizations, it is simple to detect squarefree integers."
   ]
  },
  {
   "cell_type": "code",
   "execution_count": 14,
   "metadata": {},
   "outputs": [
    {
     "name": "stdout",
     "output_type": "stream",
     "text": [
      "1 \t 1^1\n",
      "2 \t 2^1\n",
      "3 \t 3^1\n",
      "5 \t 5^1\n",
      "6 \t 2^1*3^1\n",
      "7 \t 7^1\n",
      "10 \t 2^1*5^1\n",
      "11 \t 11^1\n",
      "13 \t 13^1\n",
      "14 \t 2^1*7^1\n",
      "15 \t 3^1*5^1\n",
      "17 \t 17^1\n",
      "19 \t 19^1\n"
     ]
    }
   ],
   "source": [
    "def is_squarefree(factorization: Dict[int, int]) -> bool:\n",
    "    \"\"\"True if all exponents in the factorization are == 1; False otherwise.\"\"\"\n",
    "    return all(e == 1 for e in factorization.values())\n",
    "\n",
    "for k, kfac in factorizations(20).items():\n",
    "    if is_squarefree(kfac):\n",
    "        print(f\"{k} \\t {'*'.join([f'{p}^{e}' for (p, e) in kfac.items()])}\")"
   ]
  },
  {
   "cell_type": "markdown",
   "metadata": {},
   "source": [
    "A function to count squarefree numbers $\\leq n$ can be created using this idea."
   ]
  },
  {
   "cell_type": "code",
   "execution_count": 15,
   "metadata": {},
   "outputs": [],
   "source": [
    "def Q_factorizations(n: int) -> int:\n",
    "    \"\"\"Returns the number of squarefree positive intgers <= n\"\"\"\n",
    "    return sum(is_squarefree(factorization) for factorization in factorizations(n + 1).values())"
   ]
  },
  {
   "cell_type": "code",
   "execution_count": 16,
   "metadata": {},
   "outputs": [
    {
     "name": "stdout",
     "output_type": "stream",
     "text": [
      "CPU times: user 58 µs, sys: 3 µs, total: 61 µs\n",
      "Wall time: 67 µs\n"
     ]
    },
    {
     "data": {
      "text/plain": [
       "7"
      ]
     },
     "execution_count": 16,
     "metadata": {},
     "output_type": "execute_result"
    }
   ],
   "source": [
    "%time Q_factorizations(10)"
   ]
  },
  {
   "cell_type": "code",
   "execution_count": 17,
   "metadata": {},
   "outputs": [
    {
     "name": "stdout",
     "output_type": "stream",
     "text": [
      "CPU times: user 5.47 ms, sys: 88 µs, total: 5.56 ms\n",
      "Wall time: 7.08 ms\n"
     ]
    },
    {
     "data": {
      "text/plain": [
       "608"
      ]
     },
     "execution_count": 17,
     "metadata": {},
     "output_type": "execute_result"
    }
   ],
   "source": [
    "%time Q_factorizations(10**3)"
   ]
  },
  {
   "cell_type": "code",
   "execution_count": 18,
   "metadata": {},
   "outputs": [
    {
     "name": "stdout",
     "output_type": "stream",
     "text": [
      "CPU times: user 5.45 s, sys: 192 ms, total: 5.64 s\n",
      "Wall time: 5.64 s\n"
     ]
    },
    {
     "data": {
      "text/plain": [
       "607926"
      ]
     },
     "execution_count": 18,
     "metadata": {},
     "output_type": "execute_result"
    }
   ],
   "source": [
    "%time Q_factorizations(10**6)"
   ]
  },
  {
   "cell_type": "markdown",
   "metadata": {},
   "source": [
    "Since our algorithm requires finding lots of prime factorizations, it has a high time and space complexity. This can be observed in the runtimes. However, this method is useful as a baseline and for testing other algorithms for the problem."
   ]
  },
  {
   "cell_type": "code",
   "execution_count": 19,
   "metadata": {},
   "outputs": [],
   "source": [
    "test_count = {0: 0}\n",
    "for k, kfac in factorizations(10**3).items():\n",
    "    test_count[k] = test_count[k - 1] + is_squarefree(kfac)"
   ]
  },
  {
   "cell_type": "markdown",
   "metadata": {},
   "source": [
    "## Sieve method\n",
    "\n",
    "We can use a sieve to find squarefree integers, similarly to how we can sieve to find primes.\n",
    "Each number $\\leq n$ that is not squarefree is divisible by $p^2$ for some prime $p \\leq \\sqrt{n}$.\n",
    "For each prime $p \\leq \\sqrt{n}$, sieve the interval $1, 2, \\ldots, n$ to remove all multiples of $p^2$.\n",
    "The integers that remain after sieving are the squarefree ones."
   ]
  },
  {
   "cell_type": "code",
   "execution_count": 27,
   "metadata": {},
   "outputs": [],
   "source": [
    "def primes(n: int) -> List[int]:\n",
    "    \"\"\"Returns a list of primes <= n.\"\"\"\n",
    "    block = np.ones(n + 1, dtype=bool)\n",
    "    block[0] = block[1] = False\n",
    "    \n",
    "    for p in range(2, integer_sqrt(n + 1) + 1):\n",
    "        if block[p]:\n",
    "            block[p*p::p] = False\n",
    "    \n",
    "    return np.where(block)[0].tolist()"
   ]
  },
  {
   "cell_type": "code",
   "execution_count": 28,
   "metadata": {},
   "outputs": [
    {
     "name": "stdout",
     "output_type": "stream",
     "text": [
      "10.3 ms ± 33.7 µs per loop (mean ± std. dev. of 7 runs, 100 loops each)\n"
     ]
    }
   ],
   "source": [
    "timeit len(primes(10**6))"
   ]
  },
  {
   "cell_type": "code",
   "execution_count": 21,
   "metadata": {},
   "outputs": [
    {
     "data": {
      "text/plain": [
       "[2, 3, 5, 7, 11, 13, 17, 19, 23, 29]"
      ]
     },
     "execution_count": 21,
     "metadata": {},
     "output_type": "execute_result"
    }
   ],
   "source": [
    "# primes <= 30\n",
    "primes(30)"
   ]
  },
  {
   "cell_type": "code",
   "execution_count": 8,
   "metadata": {},
   "outputs": [
    {
     "ename": "NameError",
     "evalue": "name 'test_count' is not defined",
     "output_type": "error",
     "traceback": [
      "\u001b[0;31m---------------------------------------------------------------------------\u001b[0m",
      "\u001b[0;31mNameError\u001b[0m                                 Traceback (most recent call last)",
      "\u001b[0;32m<ipython-input-8-8facd1c8697a>\u001b[0m in \u001b[0;36m<module>\u001b[0;34m\u001b[0m\n\u001b[1;32m     11\u001b[0m \u001b[0;34m\u001b[0m\u001b[0m\n\u001b[1;32m     12\u001b[0m \u001b[0;34m\u001b[0m\u001b[0m\n\u001b[0;32m---> 13\u001b[0;31m \u001b[0;32mfor\u001b[0m \u001b[0mk\u001b[0m \u001b[0;32min\u001b[0m \u001b[0mtest_count\u001b[0m\u001b[0;34m:\u001b[0m\u001b[0;34m\u001b[0m\u001b[0;34m\u001b[0m\u001b[0m\n\u001b[0m\u001b[1;32m     14\u001b[0m     \u001b[0;32massert\u001b[0m \u001b[0mQ_sieve\u001b[0m\u001b[0;34m(\u001b[0m\u001b[0mk\u001b[0m\u001b[0;34m)\u001b[0m \u001b[0;34m==\u001b[0m \u001b[0mtest_count\u001b[0m\u001b[0;34m[\u001b[0m\u001b[0mk\u001b[0m\u001b[0;34m]\u001b[0m\u001b[0;34m\u001b[0m\u001b[0;34m\u001b[0m\u001b[0m\n",
      "\u001b[0;31mNameError\u001b[0m: name 'test_count' is not defined"
     ]
    }
   ],
   "source": [
    "def Q_sieve(n: int) -> int:\n",
    "    \"\"\"Returns the number of squarefree integers <= n, using a sieve.\"\"\"\n",
    "    block = np.ones(n + 1, dtype=bool)\n",
    "    block[0] = False\n",
    "    bound = integer_sqrt(n) + 1\n",
    "    \n",
    "    for p in primes(bound):\n",
    "        block[p*p::p*p] = False\n",
    "    \n",
    "    return np.count_nonzero(block)\n",
    "\n",
    "\n",
    "for k in test_count:\n",
    "    assert Q_sieve(k) == test_count[k]"
   ]
  },
  {
   "cell_type": "code",
   "execution_count": 137,
   "metadata": {},
   "outputs": [
    {
     "name": "stdout",
     "output_type": "stream",
     "text": [
      "CPU times: user 3.06 ms, sys: 505 µs, total: 3.57 ms\n",
      "Wall time: 3.46 ms\n"
     ]
    },
    {
     "data": {
      "text/plain": [
       "607926"
      ]
     },
     "execution_count": 137,
     "metadata": {},
     "output_type": "execute_result"
    }
   ],
   "source": [
    "%time Q_sieve(10**6)"
   ]
  },
  {
   "cell_type": "code",
   "execution_count": 138,
   "metadata": {},
   "outputs": [
    {
     "name": "stdout",
     "output_type": "stream",
     "text": [
      "CPU times: user 120 ms, sys: 24.9 ms, total: 145 ms\n",
      "Wall time: 144 ms\n"
     ]
    },
    {
     "data": {
      "text/plain": [
       "60792694"
      ]
     },
     "execution_count": 138,
     "metadata": {},
     "output_type": "execute_result"
    }
   ],
   "source": [
    "%time Q_sieve(10**8)"
   ]
  },
  {
   "cell_type": "code",
   "execution_count": 139,
   "metadata": {},
   "outputs": [
    {
     "name": "stdout",
     "output_type": "stream",
     "text": [
      "CPU times: user 1.13 s, sys: 405 ms, total: 1.54 s\n",
      "Wall time: 1.54 s\n"
     ]
    },
    {
     "data": {
      "text/plain": [
       "607927124"
      ]
     },
     "execution_count": 139,
     "metadata": {},
     "output_type": "execute_result"
    }
   ],
   "source": [
    "%time Q_sieve(10**9)"
   ]
  },
  {
   "cell_type": "markdown",
   "metadata": {},
   "source": [
    "This method is much faster, but still has $O(n)$ space since we store the entire interval $1 \\ldots n$ in memory.\n",
    "Time complexity is more than linear (has some logarithmic factors); i.e. $\\tilde O(n)$ time complexity."
   ]
  },
  {
   "cell_type": "markdown",
   "metadata": {},
   "source": [
    "## Segmented Sieve\n",
    "\n",
    "We can reduce the space complexity by using a segmented sieve.\n",
    "The idea of a segmented sieve is to break the interval $1, 2, \\ldots, n$ into smaller intervals of a given block size, and sieve each of these as we did in the previous algorithm.\n",
    "This allows us to tune the space complexity by adjusting the block size at the cost of more bookkeeping.\n",
    "We need to store the primes $\\leq \\sqrt{n}$, which requires space for $O(\\sqrt{n} / \\log(n))$ integers.\n",
    "A segmented sieve with block size $B(n)$ would then give an $O(\\sqrt{n}/log(n) + B(n))$ space requirement.\n",
    "\n",
    "Breaking this up with a segmented sieve would not reduce the $\\tilde O(n)$ time complexity, since we are still sieving all integers in the interval. However, we can reduce the time complexity via other methods."
   ]
  },
  {
   "cell_type": "code",
   "execution_count": 140,
   "metadata": {},
   "outputs": [],
   "source": [
    "def Q_segmented(n: int) -> int:\n",
    "    prime_squares = [p**2 for p in primes(integer_sqrt(n) + 1)]\n",
    "    block_size = 2**20\n",
    "    count = 0\n",
    "    \n",
    "    for start in range(1, n + 1, block_size):\n",
    "        block = np.ones(min(block_size, n - start + 1), dtype=bool)\n",
    "        for p2 in prime_squares:\n",
    "            # first multiple of p^2 that is >= start\n",
    "            multiple = ((start // p2) + (start % p2 > 0))*p2\n",
    "            block[multiple - start::p2] = False\n",
    "        count += np.count_nonzero(block)\n",
    "                \n",
    "    return count\n",
    "\n",
    "\n",
    "for k in test_count:\n",
    "    assert Q_segmented(k) == test_count[k]"
   ]
  },
  {
   "cell_type": "code",
   "execution_count": 141,
   "metadata": {},
   "outputs": [
    {
     "name": "stdout",
     "output_type": "stream",
     "text": [
      "CPU times: user 259 ms, sys: 0 ns, total: 259 ms\n",
      "Wall time: 258 ms\n"
     ]
    },
    {
     "data": {
      "text/plain": [
       "60792694"
      ]
     },
     "execution_count": 141,
     "metadata": {},
     "output_type": "execute_result"
    }
   ],
   "source": [
    "time Q_segmented(10**8)"
   ]
  },
  {
   "cell_type": "code",
   "execution_count": 142,
   "metadata": {},
   "outputs": [
    {
     "name": "stdout",
     "output_type": "stream",
     "text": [
      "CPU times: user 5.49 s, sys: 0 ns, total: 5.49 s\n",
      "Wall time: 5.49 s\n"
     ]
    },
    {
     "data": {
      "text/plain": [
       "607927124"
      ]
     },
     "execution_count": 142,
     "metadata": {},
     "output_type": "execute_result"
    }
   ],
   "source": [
    "time Q_segmented(10**9)"
   ]
  },
  {
   "cell_type": "markdown",
   "metadata": {},
   "source": [
    "## Combinatorial Method I\n",
    "\n",
    "We first derive a recursive formula for $Q(x)$ by a combinatorial argument.\n",
    "\n",
    "Partition all the $\\lfloor x \\rfloor$ positive integers $\\leq x$ into subsets $S_k$ for $k = 1, 2, \\ldots$ according to their largest square divisor $k^2$. The number of positive integers $\\leq x$ having largest square divisor $k^2$ is then $|S_k| = Q(x / k^2)$. It follows that\n",
    "\n",
    "$$\n",
    "    \\lfloor x \\rfloor = \\sum_{k \\geq 1} |S_k| =  \\sum_{1 \\leq k \\leq \\sqrt{x}} Q\\left(\\frac{x}{k^2}\\right).\n",
    "$$\n",
    "\n",
    "Rearranging gives a recursive formula for $Q(x)$\n",
    "\n",
    "$$\n",
    "    Q(x) = \\lfloor x \\rfloor - \\sum_{2 \\leq k \\leq \\sqrt{x}} Q \\left( \\frac{x}{k^2} \\right).\n",
    "$$\n",
    "\n",
    "This can be used to implement a fast method to compute $Q(x)$ by storing previously computed values, a technique sometimes called *memoization* or just simply *caching* the recursion. Notice that we insert initial value $Q(1) = 1$ into the cache so that the recursion terminates."
   ]
  },
  {
   "cell_type": "code",
   "execution_count": 143,
   "metadata": {},
   "outputs": [],
   "source": [
    "def Q_memo(x, cache={1: 1}):\n",
    "    \"\"\"Returns number of squarefree integers <= x, using a memoized recursion.\"\"\"\n",
    "    if x not in cache:\n",
    "        cache[x] = x - sum(Q_memo(x//k**2) for k in range(2, integer_sqrt(x) + 1))\n",
    "    return cache[x]\n",
    "\n",
    "\n",
    "for k in test_count:\n",
    "    assert Q_memo(k) == test_count[k]"
   ]
  },
  {
   "cell_type": "code",
   "execution_count": 144,
   "metadata": {},
   "outputs": [
    {
     "name": "stdout",
     "output_type": "stream",
     "text": [
      "CPU times: user 5.56 ms, sys: 0 ns, total: 5.56 ms\n",
      "Wall time: 4.6 ms\n"
     ]
    },
    {
     "data": {
      "text/plain": [
       "607926"
      ]
     },
     "execution_count": 144,
     "metadata": {},
     "output_type": "execute_result"
    }
   ],
   "source": [
    "time Q_memo(10**6)"
   ]
  },
  {
   "cell_type": "code",
   "execution_count": 145,
   "metadata": {},
   "outputs": [
    {
     "name": "stdout",
     "output_type": "stream",
     "text": [
      "CPU times: user 56.8 ms, sys: 0 ns, total: 56.8 ms\n",
      "Wall time: 55.1 ms\n"
     ]
    },
    {
     "data": {
      "text/plain": [
       "60792694"
      ]
     },
     "execution_count": 145,
     "metadata": {},
     "output_type": "execute_result"
    }
   ],
   "source": [
    "time Q_memo(10**8)"
   ]
  },
  {
   "cell_type": "code",
   "execution_count": 146,
   "metadata": {},
   "outputs": [
    {
     "name": "stdout",
     "output_type": "stream",
     "text": [
      "CPU times: user 752 ms, sys: 0 ns, total: 752 ms\n",
      "Wall time: 754 ms\n"
     ]
    },
    {
     "data": {
      "text/plain": [
       "6079270942"
      ]
     },
     "execution_count": 146,
     "metadata": {},
     "output_type": "execute_result"
    }
   ],
   "source": [
    "time Q_memo(10**10)"
   ]
  },
  {
   "cell_type": "code",
   "execution_count": 147,
   "metadata": {},
   "outputs": [
    {
     "name": "stdout",
     "output_type": "stream",
     "text": [
      "CPU times: user 9.12 s, sys: 0 ns, total: 9.12 s\n",
      "Wall time: 9.12 s\n"
     ]
    },
    {
     "data": {
      "text/plain": [
       "607927102274"
      ]
     },
     "execution_count": 147,
     "metadata": {},
     "output_type": "execute_result"
    }
   ],
   "source": [
    "time Q_memo(10**12)"
   ]
  },
  {
   "cell_type": "code",
   "execution_count": 148,
   "metadata": {},
   "outputs": [
    {
     "name": "stdout",
     "output_type": "stream",
     "text": [
      "CPU times: user 9.43 s, sys: 0 ns, total: 9.43 s\n",
      "Wall time: 9.43 s\n"
     ]
    },
    {
     "data": {
      "text/plain": [
       "607927102274"
      ]
     },
     "execution_count": 148,
     "metadata": {},
     "output_type": "execute_result"
    }
   ],
   "source": [
    "time Q_dp(10**12)"
   ]
  },
  {
   "cell_type": "markdown",
   "metadata": {},
   "source": [
    "We can unravel the memoized recursion into an algorithm based on dynamic programming."
   ]
  },
  {
   "cell_type": "code",
   "execution_count": 175,
   "metadata": {},
   "outputs": [],
   "source": [
    "def Q_dp(x):\n",
    "    if x in (0, 1):\n",
    "        return x\n",
    "    V = []\n",
    "    k = 1\n",
    "    while x//k**2 > x//(k + 1)**2:\n",
    "        V.append(x//k**2)\n",
    "        k += 1\n",
    "\n",
    "    V += range(V[-1] - 1, -1, -1)\n",
    "    cache = {i: i for i in V}\n",
    "    \n",
    "    for k in sorted(V):\n",
    "        for l in range(2, integer_sqrt(k) + 1):\n",
    "            cache[k] -= cache[k//l**2]\n",
    "    \n",
    "    return cache[x]\n",
    "\n",
    "\n",
    "for k in test_count:\n",
    "    assert Q_dp(k) == test_count[k]"
   ]
  },
  {
   "cell_type": "code",
   "execution_count": 182,
   "metadata": {},
   "outputs": [],
   "source": [
    "def Q_moebius(n):\n",
    "    bound = integer_sqrt(n) + 1\n",
    "    block = np.array([n//d**2 for d in range(1, bound)])\n",
    "    \n",
    "    for p in primes(bound):\n",
    "        block[p - 1::p] *= -1\n",
    "        block[p*p - 1::p*p] = 0\n",
    "    \n",
    "    return np.sum(block)"
   ]
  },
  {
   "cell_type": "code",
   "execution_count": 183,
   "metadata": {},
   "outputs": [
    {
     "name": "stdout",
     "output_type": "stream",
     "text": [
      "CPU times: user 2.16 s, sys: 0 ns, total: 2.16 s\n",
      "Wall time: 2.16 s\n"
     ]
    },
    {
     "data": {
      "text/plain": [
       "607927102274"
      ]
     },
     "execution_count": 183,
     "metadata": {},
     "output_type": "execute_result"
    }
   ],
   "source": [
    "time Q_moebius(10**12)"
   ]
  },
  {
   "cell_type": "code",
   "execution_count": 28,
   "metadata": {},
   "outputs": [
    {
     "data": {
      "text/plain": [
       "True"
      ]
     },
     "execution_count": 28,
     "metadata": {},
     "output_type": "execute_result"
    }
   ],
   "source": [
    "Q_moebius(10**6) == Q_dp(10**6) == Q_memo(10**6) == Q_sieve(10**6) == Q_segmented(10**6)"
   ]
  },
  {
   "cell_type": "code",
   "execution_count": null,
   "metadata": {},
   "outputs": [],
   "source": []
  }
 ],
 "metadata": {
  "kernelspec": {
   "display_name": "Python 3",
   "language": "python",
   "name": "python3"
  },
  "language_info": {
   "codemirror_mode": {
    "name": "ipython",
    "version": 3
   },
   "file_extension": ".py",
   "mimetype": "text/x-python",
   "name": "python",
   "nbconvert_exporter": "python",
   "pygments_lexer": "ipython3",
   "version": "3.9.2"
  }
 },
 "nbformat": 4,
 "nbformat_minor": 4
}
